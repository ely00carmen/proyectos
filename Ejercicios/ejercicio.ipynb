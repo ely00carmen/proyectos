{
 "cells": [
  {
   "cell_type": "code",
   "execution_count": 1,
   "id": "75986fd7",
   "metadata": {},
   "outputs": [
    {
     "name": "stdout",
     "output_type": "stream",
     "text": [
      "Tú vales mucho más que tu productividad. Ámate suavecito 💖\n"
     ]
    }
   ],
   "source": [
    "import random\n",
    "\n",
    "def frase_magica():\n",
    "    frases = [\n",
    "        \"Estás haciendo lo mejor que puedes, y eso es más que suficiente 🌿\",\n",
    "        \"Eres más fuerte de lo que crees. Hoy mereces descanso 💫\",\n",
    "        \"No todo se soluciona hoy, pero todo mejora paso a paso 🧡\",\n",
    "        \"Respira, suéltalo, y vuelve cuando estés lista. Aquí nadie corre 🐢✨\",\n",
    "        \"Tú vales mucho más que tu productividad. Ámate suavecito 💖\"\n",
    "    ]\n",
    "    print(random.choice(frases))\n",
    "\n",
    "frase_magica()"
   ]
  },
  {
   "cell_type": "code",
   "execution_count": 2,
   "id": "1cf58cc6",
   "metadata": {},
   "outputs": [
    {
     "name": "stdout",
     "output_type": "stream",
     "text": [
      "No todo se soluciona hoy, pero todo mejora paso a paso 🧡\n"
     ]
    }
   ],
   "source": [
    "frase_magica()"
   ]
  },
  {
   "cell_type": "code",
   "execution_count": 1,
   "id": "42b1c452",
   "metadata": {},
   "outputs": [
    {
     "data": {
      "text/plain": [
       "np.float64(0.1976348816421487)"
      ]
     },
     "execution_count": 1,
     "metadata": {},
     "output_type": "execute_result"
    }
   ],
   "source": [
    "import numpy as np\n",
    "y_true =np.array([1,0,1,0])\n",
    "y_pred = np.array([0.9,0.2,0.7,0.1])\n",
    "bce_loss = -np.mean(y_true * np.log(y_pred)+(1-y_true)*np.log(1-y_pred))\n",
    "bce_loss"
   ]
  }
 ],
 "metadata": {
  "kernelspec": {
   "display_name": ".venv",
   "language": "python",
   "name": "python3"
  },
  "language_info": {
   "codemirror_mode": {
    "name": "ipython",
    "version": 3
   },
   "file_extension": ".py",
   "mimetype": "text/x-python",
   "name": "python",
   "nbconvert_exporter": "python",
   "pygments_lexer": "ipython3",
   "version": "3.11.9"
  }
 },
 "nbformat": 4,
 "nbformat_minor": 5
}
