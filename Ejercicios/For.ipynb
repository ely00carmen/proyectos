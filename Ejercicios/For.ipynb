{
 "cells": [
  {
   "cell_type": "code",
   "execution_count": 4,
   "id": "d140f507",
   "metadata": {},
   "outputs": [
    {
     "name": "stdout",
     "output_type": "stream",
     "text": [
      "5050\n"
     ]
    }
   ],
   "source": [
    "# 🔹 Ejercicio 1: Suma de los primeros 100 números\n",
    "# Calcula la suma de los números del 1 al 100\n",
    "suma = 0\n",
    "for i in range(1,101):\n",
    "    suma +=i\n",
    "print(suma)\n",
    "\n",
    "    "
   ]
  },
  {
   "cell_type": "code",
   "execution_count": 8,
   "id": "fc81500a",
   "metadata": {},
   "outputs": [
    {
     "name": "stdout",
     "output_type": "stream",
     "text": [
      "8 x 1 = 8\n",
      "8 x 2 = 16\n",
      "8 x 3 = 24\n",
      "8 x 4 = 32\n",
      "8 x 5 = 40\n",
      "8 x 6 = 48\n",
      "8 x 7 = 56\n",
      "8 x 8 = 64\n",
      "8 x 9 = 72\n",
      "8 x 10 = 80\n"
     ]
    }
   ],
   "source": [
    "#🧪 Ejercicio: Tabla de multiplicar\n",
    "#Instrucciones:\n",
    "#Pide al usuario un número y muestra su tabla de multiplicar del 1 al 10.\n",
    "number = int(input('Dime un número: '))\n",
    "for i in range(1,11):\n",
    "    resultado = number * i\n",
    "    print(f'{number} x {i} = {resultado}')"
   ]
  },
  {
   "cell_type": "code",
   "execution_count": 12,
   "id": "1092a189",
   "metadata": {},
   "outputs": [
    {
     "name": "stdout",
     "output_type": "stream",
     "text": [
      "2\n",
      "4\n",
      "6\n",
      "8\n",
      "10\n",
      "La suma es: 30\n"
     ]
    }
   ],
   "source": [
    "#🧠 Ejercicio: Números pares y su suma\n",
    "#Objetivo:\n",
    "#Pide al usuario un número entero positivo, y luego:\n",
    "#Imprime todos los números pares del 1 hasta ese número.\n",
    "#Al final, muestra la suma total de esos pares.\n",
    "\n",
    "number_1 = int(input('Escribe un número entero positivo: '))\n",
    "suma = 0\n",
    "\n",
    "for i in range(1, number_1 + 1):\n",
    "    if i % 2 == 0:\n",
    "        print(i)\n",
    "        suma += i\n",
    "print(f'La suma es: {suma}')\n"
   ]
  },
  {
   "cell_type": "markdown",
   "id": "3dc73d63",
   "metadata": {},
   "source": [
    "📘 Ejercicio: Filtrar números pares de una lista\n",
    "Objetivo:\n",
    "Dada una lista de números, usa un for para:\n",
    "\n",
    "Imprimir solo los números pares.\n",
    "\n",
    "Guardarlos en una nueva lista.\n",
    "\n",
    "Al final, muestra la nueva lista y su suma."
   ]
  },
  {
   "cell_type": "code",
   "execution_count": 13,
   "id": "ebd42f04",
   "metadata": {},
   "outputs": [
    {
     "name": "stdout",
     "output_type": "stream",
     "text": [
      "Los números pares son: [8, 12, 10, 2]\n",
      "La suma de los números pares es: 32\n"
     ]
    }
   ],
   "source": [
    "lista = [3, 8, 12, 5, 7, 10, 2, 17]\n",
    "\n",
    "pares = []\n",
    "suma = 0\n",
    "for i in lista:\n",
    "    if i % 2 == 0:\n",
    "        pares.append(i)\n",
    "        suma += i\n",
    "print(f'Los números pares son: {pares}')\n",
    "print(f'La suma de los números pares es: {suma}')\n"
   ]
  },
  {
   "cell_type": "markdown",
   "id": "296f8a19",
   "metadata": {},
   "source": [
    "🧠 Ejercicio: Palabras con más de 5 letras\n",
    "Objetivo:\n",
    "Dada una lista de palabras, tu programa debe:\n",
    "\n",
    "Imprimir las palabras que tienen más de 5 letras.\n",
    "\n",
    "Guardarlas en una nueva lista.\n",
    "\n",
    "Al final, mostrar cuántas palabras cumplen esa condición y la lista resultante."
   ]
  },
  {
   "cell_type": "code",
   "execution_count": 17,
   "id": "9c55494c",
   "metadata": {},
   "outputs": [
    {
     "name": "stdout",
     "output_type": "stream",
     "text": [
      "Las palabras que tienen más de cinco letras son: ['elefante', 'computadora', 'maravilloso', 'teclado']\n",
      "Tenemos 4 contador palabras que tienen más de cinco letras\n"
     ]
    }
   ],
   "source": [
    "palabras = [\"elefante\", \"sol\", \"computadora\", \"luz\", \"gato\", \"maravilloso\", \"ratón\", \"teclado\"]\n",
    "\n",
    "letters_5 = []\n",
    "for item in palabras:\n",
    "    if len(item) > 5:\n",
    "        letters_5.append(item)\n",
    "print(f'Las palabras que tienen más de cinco letras son: {letters_5}')\n",
    "print(f'Tenemos {len(letters_5)} contador palabras que tienen más de cinco letras')\n",
    "\n"
   ]
  },
  {
   "cell_type": "markdown",
   "id": "2bcb25ca",
   "metadata": {},
   "source": [
    "🧠 Ejercicio: Contar palabras con más de 5 letras en una frase del usuario\n",
    "Objetivo:\n",
    "\n",
    "Pide al usuario que escriba una frase completa.\n",
    "\n",
    "Divide la frase en palabras (usa .split()).\n",
    "\n",
    "Recorre las palabras y guarda las que tienen más de 5 letras.\n",
    "\n",
    "Al final, imprime cuántas son y cuáles son."
   ]
  },
  {
   "cell_type": "code",
   "execution_count": 4,
   "id": "e10ecf65",
   "metadata": {},
   "outputs": [
    {
     "name": "stdout",
     "output_type": "stream",
     "text": [
      "Tenemos 3 palabras con más de 5 letras y son ['maravilloso', 'programar', 'Python']\n"
     ]
    }
   ],
   "source": [
    "frase = input('Escribe una frase: ')\n",
    "\n",
    "frase_per_words = frase.split()\n",
    "words =[]\n",
    "for i in frase_per_words:\n",
    "    if len(i) > 5:\n",
    "        words.append(i)\n",
    "print(f'Tenemos {len(words)} palabras con más de 5 letras y son {words}')\n"
   ]
  },
  {
   "cell_type": "markdown",
   "id": "9dedf973",
   "metadata": {},
   "source": [
    "Día_2"
   ]
  },
  {
   "cell_type": "code",
   "execution_count": null,
   "id": "3827e57c",
   "metadata": {},
   "outputs": [
    {
     "ename": "NameError",
     "evalue": "name 'pd' is not defined",
     "output_type": "error",
     "traceback": [
      "\u001b[31m---------------------------------------------------------------------------\u001b[39m",
      "\u001b[31mNameError\u001b[39m                                 Traceback (most recent call last)",
      "\u001b[36mCell\u001b[39m\u001b[36m \u001b[39m\u001b[32mIn[1]\u001b[39m\u001b[32m, line 1\u001b[39m\n\u001b[32m----> \u001b[39m\u001b[32m1\u001b[39m df = \u001b[43mpd\u001b[49m.read_csv()\n",
      "\u001b[31mNameError\u001b[39m: name 'pd' is not defined"
     ]
    }
   ],
   "source": [
    "import pandas as pd\n",
    "df = pd.read_csv"
   ]
  },
  {
   "cell_type": "code",
   "execution_count": null,
   "id": "9e8467ce",
   "metadata": {},
   "outputs": [],
   "source": []
  }
 ],
 "metadata": {
  "kernelspec": {
   "display_name": ".venv",
   "language": "python",
   "name": "python3"
  },
  "language_info": {
   "codemirror_mode": {
    "name": "ipython",
    "version": 3
   },
   "file_extension": ".py",
   "mimetype": "text/x-python",
   "name": "python",
   "nbconvert_exporter": "python",
   "pygments_lexer": "ipython3",
   "version": "3.11.9"
  }
 },
 "nbformat": 4,
 "nbformat_minor": 5
}
